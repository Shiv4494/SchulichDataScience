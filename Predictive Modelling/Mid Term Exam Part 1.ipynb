{
 "cells": [
  {
   "cell_type": "code",
   "execution_count": 4,
   "metadata": {},
   "outputs": [],
   "source": [
    "import pandas as pd"
   ]
  },
  {
   "cell_type": "code",
   "execution_count": 5,
   "metadata": {},
   "outputs": [],
   "source": [
    "from statsmodels.sandbox.regression.gmm import IV2SLS"
   ]
  },
  {
   "cell_type": "code",
   "execution_count": 6,
   "metadata": {},
   "outputs": [],
   "source": [
    "# Load the dataset\n",
    "file_path = '/Users/shivamverma/Downloads/midterm_partone.csv'"
   ]
  },
  {
   "cell_type": "code",
   "execution_count": 7,
   "metadata": {},
   "outputs": [],
   "source": [
    "data = pd.read_csv(file_path)\n"
   ]
  },
  {
   "cell_type": "code",
   "execution_count": 8,
   "metadata": {},
   "outputs": [],
   "source": [
    "# Define the dependent variable (Y) and independent variables (X)\n",
    "# Dependent variable: Stock Change\n",
    "Y = data['Stock Change']\n"
   ]
  },
  {
   "cell_type": "code",
   "execution_count": 9,
   "metadata": {},
   "outputs": [],
   "source": [
    "# Independent variables: assuming Inventory Turnover, Operating Profit, etc., as X\n",
    "X = data[['Constant', 'Inventory Turnover', 'Operating Profit', 'Interaction Effect',\n",
    "          'Current Ratio', 'Quick Ratio', 'Debt Asset Ratio']]\n"
   ]
  },
  {
   "cell_type": "code",
   "execution_count": 10,
   "metadata": {},
   "outputs": [],
   "source": [
    "# Instrumental variables (IVs), assuming the same as independent variables\n",
    "Z = X\n"
   ]
  },
  {
   "cell_type": "code",
   "execution_count": 11,
   "metadata": {},
   "outputs": [],
   "source": [
    "# Create the model with the specified endogenous and instrumental variables\n",
    "# Incorporate the moment condition modification to test for bias\n",
    "model = IV2SLS(Y, X, instrument=Z)\n",
    "result = model.fit()"
   ]
  },
  {
   "cell_type": "code",
   "execution_count": 12,
   "metadata": {},
   "outputs": [
    {
     "name": "stdout",
     "output_type": "stream",
     "text": [
      "                          IV2SLS Regression Results                           \n",
      "==============================================================================\n",
      "Dep. Variable:           Stock Change   R-squared:                       0.015\n",
      "Model:                         IV2SLS   Adj. R-squared:                  0.012\n",
      "Method:                     Two Stage   F-statistic:                     4.364\n",
      "                        Least Squares   Prob (F-statistic):           0.000221\n",
      "Date:                Mon, 11 Nov 2024                                         \n",
      "Time:                        07:11:33                                         \n",
      "No. Observations:                1696                                         \n",
      "Df Residuals:                    1689                                         \n",
      "Df Model:                           6                                         \n",
      "======================================================================================\n",
      "                         coef    std err          t      P>|t|      [0.025      0.975]\n",
      "--------------------------------------------------------------------------------------\n",
      "Constant               0.0401      0.030      1.333      0.183      -0.019       0.099\n",
      "Inventory Turnover  1.488e-05      0.000      0.037      0.970      -0.001       0.001\n",
      "Operating Profit      -0.1211      0.028     -4.283      0.000      -0.177      -0.066\n",
      "Interaction Effect     0.0014      0.000      3.511      0.000       0.001       0.002\n",
      "Current Ratio         -0.0282      0.020     -1.422      0.155      -0.067       0.011\n",
      "Quick Ratio            0.0223      0.024      0.915      0.360      -0.025       0.070\n",
      "Debt Asset Ratio       0.0009      0.044      0.020      0.984      -0.086       0.088\n",
      "==============================================================================\n",
      "Omnibus:                      368.020   Durbin-Watson:                   2.243\n",
      "Prob(Omnibus):                  0.000   Jarque-Bera (JB):             3422.354\n",
      "Skew:                           0.740   Prob(JB):                         0.00\n",
      "Kurtosis:                       9.800   Cond. No.                         198.\n",
      "==============================================================================\n"
     ]
    }
   ],
   "source": [
    "# Display the summary of the GMM estimation\n",
    "print(result.summary())\n"
   ]
  },
  {
   "cell_type": "markdown",
   "metadata": {},
   "source": [
    "# Based on the IV2SLS regression results, here’s a summary of key findings:\n",
    "\n",
    "* Significant Coefficients:\n",
    "\n",
    "Operating Profit and Interaction Effect are statistically significant at the 1% level, with \n",
    "𝑝\n",
    "p-values of 0.000.\n",
    "Operating Profit has a negative coefficient, indicating that an increase in operating profit is associated with a decrease in stock change, holding other factors constant.\n",
    "Interaction Effect has a positive coefficient, suggesting a direct positive relationship with stock change.\n",
    "\n",
    "* Insignificant Coefficients:\n",
    "\n",
    "Constant, Inventory Turnover, Current Ratio, Quick Ratio, and Debt Asset Ratio are not statistically significant. Their 𝑝-values are above the typical 5% threshold, implying weak evidence that these variables independently affect stock change.\n",
    "\n",
    "* Model Fit:\n",
    "\n",
    "The R² value of 0.015 suggests that the model explains only 1.5% of the variance in stock changes, indicating a weak overall fit.\n",
    "\n",
    "* Implications for 𝛿 Term (Bias in Moment Conditions):\n",
    "\n",
    "The lack of significance for most coefficients suggests limited evidence of the claimed bias (𝛿) across all instrumental variables. However, the significance of Operating Profit and Interaction Effect might suggest specific relationships, though these may not necessarily indicate a pervasive bias as claimed by the industry expert.\n",
    "\n",
    "In summary, the data does not strongly support the expert's claim of a systematic bias across all moment conditions in the instrumental variables.\n",
    "\n",
    "\n",
    "\n",
    "\n",
    "\n",
    "\n"
   ]
  },
  {
   "cell_type": "markdown",
   "metadata": {},
   "source": []
  }
 ],
 "metadata": {
  "kernelspec": {
   "display_name": "Python 3",
   "language": "python",
   "name": "python3"
  },
  "language_info": {
   "codemirror_mode": {
    "name": "ipython",
    "version": 3
   },
   "file_extension": ".py",
   "mimetype": "text/x-python",
   "name": "python",
   "nbconvert_exporter": "python",
   "pygments_lexer": "ipython3",
   "version": "3.9.6"
  }
 },
 "nbformat": 4,
 "nbformat_minor": 2
}
